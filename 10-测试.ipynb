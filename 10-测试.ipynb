{
 "cells": [
  {
   "cell_type": "code",
   "execution_count": 62,
   "id": "initial_id",
   "metadata": {
    "collapsed": true,
    "ExecuteTime": {
     "end_time": "2024-11-08T08:44:59.314092200Z",
     "start_time": "2024-11-08T08:44:55.715613600Z"
    }
   },
   "outputs": [
    {
     "name": "stdout",
     "output_type": "stream",
     "text": []
    }
   ],
   "source": [
    "import maya.cmds as cmds\n",
    "import maya.api.OpenMaya as om"
   ]
  },
  {
   "cell_type": "code",
   "outputs": [],
   "source": [
    "%setPort 4434"
   ],
   "metadata": {
    "collapsed": false,
    "ExecuteTime": {
     "end_time": "2024-11-08T08:45:02.036667100Z",
     "start_time": "2024-11-08T08:45:01.809988800Z"
    }
   },
   "id": "1e05cb00d1b42925",
   "execution_count": 63
  },
  {
   "cell_type": "code",
   "outputs": [
    {
     "name": "stdout",
     "output_type": "stream",
     "text": [
      "transform4\n",
      "True\n"
     ]
    }
   ],
   "source": [
    "fnTrans = om.MFnTransform()\n",
    "trans1 = fnTrans.create()\n",
    "print(fnTrans.name())\n",
    "print(fnTrans.object() == trans1)"
   ],
   "metadata": {
    "collapsed": false,
    "ExecuteTime": {
     "end_time": "2024-11-08T09:10:05.764440100Z",
     "start_time": "2024-11-08T09:10:05.734192700Z"
    }
   },
   "id": "6b2d75674d6f3d9d",
   "execution_count": 109
  },
  {
   "cell_type": "code",
   "outputs": [
    {
     "name": "stdout",
     "output_type": "stream",
     "text": [
      "transform10\n"
     ]
    }
   ],
   "source": [
    "trans2 = fnTrans.create()\n",
    "print(fnTrans.name())"
   ],
   "metadata": {
    "collapsed": false,
    "ExecuteTime": {
     "end_time": "2024-11-08T09:37:22.292970100Z",
     "start_time": "2024-11-08T09:37:22.261792600Z"
    }
   },
   "id": "23ee1875c003311d",
   "execution_count": 168
  },
  {
   "cell_type": "code",
   "outputs": [
    {
     "name": "stdout",
     "output_type": "stream",
     "text": [
      "world\n"
     ]
    }
   ],
   "source": [
    "print(om.MFnDagNode(fnTrans.parent(0)).name())"
   ],
   "metadata": {
    "collapsed": false,
    "ExecuteTime": {
     "end_time": "2024-11-08T11:25:12.582649900Z",
     "start_time": "2024-11-08T11:25:12.560629500Z"
    }
   },
   "id": "1caec06df8fba854",
   "execution_count": 266
  },
  {
   "cell_type": "code",
   "outputs": [
    {
     "name": "stdout",
     "output_type": "stream",
     "text": [
      "world : dagNode\n"
     ]
    }
   ],
   "source": [
    "def printParent(obj: om.MObject):\n",
    "    if obj.hasFn(om.MFn.kDagNode):\n",
    "        obj = om.MFnDagNode(obj).parent(0)\n",
    "    else:\n",
    "        print(f\"{om.MFnDependencyNode(obj).name()} is not a dag node\")\n",
    "        return\n",
    "    while obj.hasFn(om.MFn.kDagNode):\n",
    "        fnDagNode = om.MFnDagNode(obj)\n",
    "        print(f\"{fnDagNode.name()} : {fnDagNode.typeName}\")\n",
    "        if fnDagNode.parentCount() > 0:\n",
    "            obj = fnDagNode.parent(0)\n",
    "        else:\n",
    "            return\n",
    "\n",
    "\n",
    "printParent(trans2)"
   ],
   "metadata": {
    "collapsed": false,
    "ExecuteTime": {
     "end_time": "2024-11-08T09:53:20.936709400Z",
     "start_time": "2024-11-08T09:53:20.903559800Z"
    }
   },
   "id": "e6ece853ef9193f0",
   "execution_count": 202
  },
  {
   "cell_type": "code",
   "outputs": [],
   "source": [],
   "metadata": {
    "collapsed": false
   },
   "id": "6e4bec194fe7ccd5"
  },
  {
   "cell_type": "code",
   "outputs": [
    {
     "name": "stdout",
     "output_type": "stream",
     "text": [
      "kBase 1\n",
      "kNamedObject 2\n",
      "kDependencyNode 4\n",
      "kDagNode 107\n",
      "kTransform 110\n"
     ]
    }
   ],
   "source": [
    "def printFnOfObject(obj: om.MObject):\n",
    "    for attr_name, attr_value in om.MFn.__dict__.items():\n",
    "        if attr_name.startswith(\"k\"):\n",
    "            if obj.hasFn(attr_value):\n",
    "                print(attr_name, attr_value)\n",
    "\n",
    "\n",
    "printFnOfObject(trans1)"
   ],
   "metadata": {
    "collapsed": false,
    "ExecuteTime": {
     "end_time": "2024-11-08T08:45:04.592237800Z",
     "start_time": "2024-11-08T08:45:04.506015600Z"
    }
   },
   "id": "7c00d0989839b7c1",
   "execution_count": 67
  },
  {
   "cell_type": "code",
   "outputs": [
    {
     "name": "stdout",
     "output_type": "stream",
     "text": [
      "<class 'OpenMaya.MFnTransform'>\n",
      "<class 'OpenMaya.MFnDagNode'>\n",
      "<class 'OpenMaya.MFnDependencyNode'>\n",
      "<class 'OpenMaya.MFnBase'>\n"
     ]
    }
   ],
   "source": [
    "def printBaseClass(obj):\n",
    "    print(obj.__class__)\n",
    "    parent = obj.__class__.__bases__[0]\n",
    "    while len(parent.__bases__) > 0:\n",
    "        print(parent)\n",
    "        parent = parent.__bases__[0]\n",
    "\n",
    "\n",
    "printBaseClass(fnTrans)  # a MFnTransform"
   ],
   "metadata": {
    "collapsed": false,
    "ExecuteTime": {
     "end_time": "2024-11-08T08:53:38.043498600Z",
     "start_time": "2024-11-08T08:53:38.010914600Z"
    }
   },
   "id": "3a3e928b26cb3ee7",
   "execution_count": 91
  },
  {
   "cell_type": "code",
   "outputs": [
    {
     "name": "stdout",
     "output_type": "stream",
     "text": [
      "('hair_0')\n"
     ]
    }
   ],
   "source": [
    "SelectionList: om.MSelectionList = om.MGlobal.getActiveSelectionList()\n",
    "print(SelectionList)"
   ],
   "metadata": {
    "collapsed": false,
    "ExecuteTime": {
     "end_time": "2024-11-08T08:59:36.992675900Z",
     "start_time": "2024-11-08T08:59:36.969473500Z"
    }
   },
   "id": "d77a306c14b953c5",
   "execution_count": 95
  },
  {
   "cell_type": "code",
   "outputs": [
    {
     "name": "stdout",
     "output_type": "stream",
     "text": []
    }
   ],
   "source": [
    "dagPath: om.MDagPath = SelectionList.getDagPath(0)\n",
    "node = SelectionList.getDependNode(0)"
   ],
   "metadata": {
    "collapsed": false,
    "ExecuteTime": {
     "end_time": "2024-11-08T09:30:27.091607500Z",
     "start_time": "2024-11-08T09:30:27.083098600Z"
    }
   },
   "id": "56e24463512402a8",
   "execution_count": 147
  },
  {
   "cell_type": "code",
   "outputs": [
    {
     "name": "stdout",
     "output_type": "stream",
     "text": [
      "hair_0\n"
     ]
    }
   ],
   "source": [
    "print(dagPath)"
   ],
   "metadata": {
    "collapsed": false,
    "ExecuteTime": {
     "end_time": "2024-11-08T09:29:59.488943400Z",
     "start_time": "2024-11-08T09:29:59.458103Z"
    }
   },
   "id": "42af5d78374e6e86",
   "execution_count": 143
  },
  {
   "cell_type": "code",
   "outputs": [
    {
     "name": "stdout",
     "output_type": "stream",
     "text": [
      "kBase 1\n",
      "kNamedObject 2\n",
      "kDependencyNode 4\n",
      "kDagNode 107\n",
      "kShape 248\n",
      "kGeometric 265\n",
      "kSurface 293\n",
      "kMesh 296\n"
     ]
    }
   ],
   "source": [
    "printFnOfObject(node)"
   ],
   "metadata": {
    "collapsed": false,
    "ExecuteTime": {
     "end_time": "2024-11-08T11:33:04.860506600Z",
     "start_time": "2024-11-08T11:33:04.806301700Z"
    }
   },
   "id": "5840efa5b4f6e8a7",
   "execution_count": 268
  },
  {
   "cell_type": "code",
   "outputs": [
    {
     "name": "stdout",
     "output_type": "stream",
     "text": [
      "polyQuad4 : polyQuad\n",
      "polyQuad4 is not a dag node\n"
     ]
    }
   ],
   "source": [
    "SelectionList: om.MSelectionList = om.MGlobal.getActiveSelectionList()\n",
    "# dagPath : om.MDagPath = SelectionList.getDagPath(0)\n",
    "node = SelectionList.getDependNode(0)\n",
    "fnDepNode = om.MFnDependencyNode(node)\n",
    "# print(fnDepNode.userNode()) # MPxNode\n",
    "print(fnDepNode.name() + \" : \" + fnDepNode.typeName)\n",
    "printParent(node)\n"
   ],
   "metadata": {
    "collapsed": false,
    "ExecuteTime": {
     "end_time": "2024-11-08T15:34:50.599439700Z",
     "start_time": "2024-11-08T15:34:50.563757200Z"
    }
   },
   "id": "c677d43c8dd7cb73",
   "execution_count": 365
  },
  {
   "cell_type": "code",
   "outputs": [
    {
     "name": "stdout",
     "output_type": "stream",
     "text": [
      "<OpenMaya.MObject object at 0x0000021DD7B32D50>\n"
     ]
    }
   ],
   "source": [
    "def getNodeByName(node_name) -> om.MObject | None:\n",
    "    sel_list = om.MSelectionList()\n",
    "    try:\n",
    "        sel_list.add(node_name)\n",
    "    except:\n",
    "        return None\n",
    "    return sel_list.getDependNode(0)\n",
    "\n",
    "\n",
    "print(getNodeByName(\"pPlane1_rotateY\"))"
   ],
   "metadata": {
    "collapsed": false,
    "ExecuteTime": {
     "end_time": "2024-11-08T11:20:17.286660500Z",
     "start_time": "2024-11-08T11:20:17.247439300Z"
    }
   },
   "id": "194c3d017ad46777",
   "execution_count": 255
  },
  {
   "cell_type": "code",
   "outputs": [
    {
     "name": "stderr",
     "output_type": "stream",
     "text": [
      "('pSphereShape1', 'pSphereShape1_tangentSmoothingAngle')\n"
     ]
    }
   ],
   "source": [
    "SelectionList"
   ],
   "metadata": {
    "collapsed": false,
    "ExecuteTime": {
     "end_time": "2024-11-08T12:04:25.097230600Z",
     "start_time": "2024-11-08T12:04:25.051328300Z"
    }
   },
   "id": "434b3a1823afa382",
   "execution_count": 270
  },
  {
   "cell_type": "code",
   "outputs": [
    {
     "name": "stdout",
     "output_type": "stream",
     "text": [
      "kBase 1\n",
      "kAttribute 565\n",
      "kUnitAttribute 573\n"
     ]
    }
   ],
   "source": [
    "printFnOfObject(fnDepNode.attribute(\"height\"))"
   ],
   "metadata": {
    "collapsed": false,
    "ExecuteTime": {
     "end_time": "2024-11-08T13:52:41.262085100Z",
     "start_time": "2024-11-08T13:52:41.242028100Z"
    }
   },
   "id": "db0b043117341341",
   "execution_count": 301
  },
  {
   "cell_type": "code",
   "outputs": [
    {
     "name": "stdout",
     "output_type": "stream",
     "text": [
      "True\n",
      "100.0\n"
     ]
    }
   ],
   "source": [
    "# height = om.MFnUnitAttribute(fnDepNode.attribute(\"height\"))\n",
    "heightPlug: om.MPlug = fnDepNode.findPlug(fnDepNode.attribute(\"height\"), False)  # 这个bool值并没有对使用什么影响，应该只是内部实现的差异\n",
    "print(heightPlug.attribute() == fnDepNode.attribute(\"height\"))\n",
    "heightPlug.setFloat(100.0)\n",
    "print(heightPlug.asFloat())\n",
    "\n"
   ],
   "metadata": {
    "collapsed": false,
    "ExecuteTime": {
     "end_time": "2024-11-08T14:05:39.405595400Z",
     "start_time": "2024-11-08T14:05:39.376719200Z"
    }
   },
   "id": "757ec545811ad8cf",
   "execution_count": 305
  },
  {
   "cell_type": "code",
   "outputs": [
    {
     "name": "stdout",
     "output_type": "stream",
     "text": [
      "pCubeShape1.message \n",
      "pCubeShape1.caching \n",
      "pCubeShape1.frozen \n",
      "pCubeShape1.isHistoricallyInteresting \n",
      "pCubeShape1.nodeState \n",
      "pCubeShape1.binMembership \n",
      "pCubeShape1.hyperLayout \n",
      "pCubeShape1.isCollapsed \n",
      "pCubeShape1.blackBox \n",
      "pCubeShape1.borderConnections : Array \n",
      "pCubeShape1.isHierarchicalConnection : Array \n",
      "pCubeShape1.publishedNodeInfo : Array : Compound \n",
      "pCubeShape1.publishedNodeInfo[-1].publishedNode \n",
      "pCubeShape1.publishedNodeInfo[-1].isHierarchicalNode \n",
      "pCubeShape1.publishedNodeInfo[-1].publishedNodeType \n",
      "pCubeShape1.rmbCommand \n",
      "pCubeShape1.templateName \n",
      "pCubeShape1.templatePath \n",
      "pCubeShape1.viewName \n",
      "pCubeShape1.iconName \n",
      "pCubeShape1.viewMode \n",
      "pCubeShape1.templateVersion \n",
      "pCubeShape1.uiTreatment \n",
      "pCubeShape1.customTreatment \n",
      "pCubeShape1.creator \n",
      "pCubeShape1.creationDate \n",
      "pCubeShape1.containerType \n",
      "pCubeShape1.boundingBox : Compound \n",
      "pCubeShape1.boundingBoxMin : Compound \n",
      "pCubeShape1.boundingBoxMinX \n",
      "pCubeShape1.boundingBoxMinY \n",
      "pCubeShape1.boundingBoxMinZ \n",
      "pCubeShape1.boundingBoxMax : Compound \n",
      "pCubeShape1.boundingBoxMaxX \n",
      "pCubeShape1.boundingBoxMaxY \n",
      "pCubeShape1.boundingBoxMaxZ \n",
      "pCubeShape1.boundingBoxSize : Compound \n",
      "pCubeShape1.boundingBoxSizeX \n",
      "pCubeShape1.boundingBoxSizeY \n",
      "pCubeShape1.boundingBoxSizeZ \n",
      "pCubeShape1.center : Compound \n",
      "pCubeShape1.boundingBoxCenterX \n",
      "pCubeShape1.boundingBoxCenterY \n",
      "pCubeShape1.boundingBoxCenterZ \n",
      "pCubeShape1.matrix \n",
      "pCubeShape1.inverseMatrix \n",
      "pCubeShape1.worldMatrix : Array \n",
      "pCubeShape1.worldInverseMatrix : Array \n",
      "pCubeShape1.parentMatrix : Array \n",
      "pCubeShape1.parentInverseMatrix : Array \n",
      "pCubeShape1.visibility \n",
      "pCubeShape1.intermediateObject \n",
      "pCubeShape1.template \n",
      "pCubeShape1.instObjGroups : Array \n",
      "pCubeShape1.instObjGroups[0] --> initialShadingGroup.dagSetMembers[60]: Compound \n",
      "pCubeShape1.instObjGroups[-1].objectGroups : Array : Compound \n",
      "pCubeShape1.instObjGroups[-1].objectGroups[-1].objectGrpCompList \n",
      "pCubeShape1.instObjGroups[-1].objectGroups[-1].objectGroupId \n",
      "pCubeShape1.instObjGroups[-1].objectGroups[-1].objectGrpColor \n",
      "pCubeShape1.objectColorRGB : Compound \n",
      "pCubeShape1.objectColorR \n",
      "pCubeShape1.objectColorG \n",
      "pCubeShape1.objectColorB \n",
      "pCubeShape1.wireColorRGB : Compound \n",
      "pCubeShape1.wireColorR \n",
      "pCubeShape1.wireColorG \n",
      "pCubeShape1.wireColorB \n",
      "pCubeShape1.useObjectColor \n",
      "pCubeShape1.objectColor \n",
      "pCubeShape1.drawOverride : Compound \n",
      "pCubeShape1.overrideDisplayType \n",
      "pCubeShape1.overrideLevelOfDetail \n",
      "pCubeShape1.overrideShading \n",
      "pCubeShape1.overrideTexturing \n",
      "pCubeShape1.overridePlayback \n",
      "pCubeShape1.overrideEnabled \n",
      "pCubeShape1.overrideVisibility \n",
      "pCubeShape1.hideOnPlayback \n",
      "pCubeShape1.overrideRGBColors \n",
      "pCubeShape1.overrideColor \n",
      "pCubeShape1.overrideColorRGB : Compound \n",
      "pCubeShape1.overrideColorR \n",
      "pCubeShape1.overrideColorG \n",
      "pCubeShape1.overrideColorB \n",
      "pCubeShape1.overrideColorA \n",
      "pCubeShape1.lodVisibility \n",
      "pCubeShape1.selectionChildHighlighting \n",
      "pCubeShape1.renderInfo : Compound \n",
      "pCubeShape1.identification \n",
      "pCubeShape1.layerRenderable \n",
      "pCubeShape1.layerOverrideColor \n",
      "pCubeShape1.renderLayerInfo : Array : Compound \n",
      "pCubeShape1.renderLayerInfo[-1].renderLayerId \n",
      "pCubeShape1.renderLayerInfo[-1].renderLayerRenderable \n",
      "pCubeShape1.renderLayerInfo[-1].renderLayerColor \n",
      "pCubeShape1.ghosting \n",
      "pCubeShape1.ghostingMode \n",
      "pCubeShape1.ghostCustomSteps : Compound \n",
      "pCubeShape1.ghostPreFrames \n",
      "pCubeShape1.ghostPostFrames \n",
      "pCubeShape1.ghostsStep \n",
      "pCubeShape1.ghostFrames \n",
      "pCubeShape1.ghostOpacityRange : Compound \n",
      "pCubeShape1.ghostFarOpacity \n",
      "pCubeShape1.ghostNearOpacity \n",
      "pCubeShape1.ghostColorPre : Compound \n",
      "pCubeShape1.ghostColorPreR \n",
      "pCubeShape1.ghostColorPreG \n",
      "pCubeShape1.ghostColorPreB \n",
      "pCubeShape1.ghostColorPost : Compound \n",
      "pCubeShape1.ghostColorPostR \n",
      "pCubeShape1.ghostColorPostG \n",
      "pCubeShape1.ghostColorPostB \n",
      "pCubeShape1.ghostDriver \n",
      "pCubeShape1.ghostUseDriver \n",
      "pCubeShape1.hiddenInOutliner \n",
      "pCubeShape1.useOutlinerColor \n",
      "pCubeShape1.outlinerColor : Compound \n",
      "pCubeShape1.outlinerColorR \n",
      "pCubeShape1.outlinerColorG \n",
      "pCubeShape1.outlinerColorB \n",
      "pCubeShape1.renderType \n",
      "pCubeShape1.renderVolume \n",
      "pCubeShape1.visibleFraction \n",
      "pCubeShape1.hardwareFogMultiplier \n",
      "pCubeShape1.motionBlur \n",
      "pCubeShape1.visibleInReflections \n",
      "pCubeShape1.visibleInRefractions \n",
      "pCubeShape1.castsShadows \n",
      "pCubeShape1.receiveShadows \n",
      "pCubeShape1.asBackground \n",
      "pCubeShape1.maxVisibilitySamplesOverride \n",
      "pCubeShape1.maxVisibilitySamples \n",
      "pCubeShape1.geometryAntialiasingOverride \n",
      "pCubeShape1.antialiasingLevel \n",
      "pCubeShape1.shadingSamplesOverride \n",
      "pCubeShape1.shadingSamples \n",
      "pCubeShape1.maxShadingSamples \n",
      "pCubeShape1.volumeSamplesOverride \n",
      "pCubeShape1.volumeSamples \n",
      "pCubeShape1.depthJitter \n",
      "pCubeShape1.ignoreSelfShadowing \n",
      "pCubeShape1.primaryVisibility \n",
      "pCubeShape1.referenceObject \n",
      "pCubeShape1.compInstObjGroups : Array : Compound \n",
      "pCubeShape1.compInstObjGroups[-1].compObjectGroups : Array : Compound \n",
      "pCubeShape1.compInstObjGroups[-1].compObjectGroups[-1].compObjectGrpCompList \n",
      "pCubeShape1.compInstObjGroups[-1].compObjectGroups[-1].compObjectGroupId \n",
      "pCubeShape1.componentTags : Array : Compound \n",
      "pCubeShape1.componentTags[-1].componentTagName \n",
      "pCubeShape1.componentTags[-1].componentTagContents \n",
      "pCubeShape1.instMaterialAssign : Array \n",
      "pCubeShape1.pickTexture \n",
      "pCubeShape1.tweak \n",
      "pCubeShape1.relativeTweak \n",
      "pCubeShape1.controlPoints : Array : Compound \n",
      "pCubeShape1.controlPoints[-1].xValue \n",
      "pCubeShape1.controlPoints[-1].yValue \n",
      "pCubeShape1.controlPoints[-1].zValue \n",
      "pCubeShape1.weights : Array \n",
      "pCubeShape1.tweakLocation \n",
      "pCubeShape1.blindDataNodes : Array \n",
      "pCubeShape1.uvPivot : Compound \n",
      "pCubeShape1.uvPivotX \n",
      "pCubeShape1.uvPivotY \n",
      "pCubeShape1.uvSet : Array : Compound \n",
      "pCubeShape1.uvSet[-1].uvSetName \n",
      "pCubeShape1.uvSet[-1].uvSetPoints : Array : Compound \n",
      "pCubeShape1.uvSet[-1].uvSetPoints[-1].uvSetPointsU \n",
      "pCubeShape1.uvSet[-1].uvSetPoints[-1].uvSetPointsV \n",
      "pCubeShape1.uvSet[-1].uvSetTweakLocation \n",
      "pCubeShape1.currentUVSet \n",
      "pCubeShape1.displayImmediate \n",
      "pCubeShape1.displayColors \n",
      "pCubeShape1.displayColorChannel \n",
      "pCubeShape1.currentColorSet \n",
      "pCubeShape1.colorSet : Array : Compound \n",
      "pCubeShape1.colorSet[-1].colorName \n",
      "pCubeShape1.colorSet[-1].clamped \n",
      "pCubeShape1.colorSet[-1].representation \n",
      "pCubeShape1.colorSet[-1].colorSetPoints : Array : Compound \n",
      "pCubeShape1.colorSet[-1].colorSetPoints[-1].colorSetPointsR \n",
      "pCubeShape1.colorSet[-1].colorSetPoints[-1].colorSetPointsG \n",
      "pCubeShape1.colorSet[-1].colorSetPoints[-1].colorSetPointsB \n",
      "pCubeShape1.colorSet[-1].colorSetPoints[-1].colorSetPointsA \n",
      "pCubeShape1.ignoreHwShader \n",
      "pCubeShape1.doubleSided \n",
      "pCubeShape1.opposite \n",
      "pCubeShape1.holdOut \n",
      "pCubeShape1.smoothShading \n",
      "pCubeShape1.boundingBoxScale : Compound \n",
      "pCubeShape1.boundingBoxScaleX \n",
      "pCubeShape1.boundingBoxScaleY \n",
      "pCubeShape1.boundingBoxScaleZ \n",
      "pCubeShape1.featureDisplacement \n",
      "pCubeShape1.initialSampleRate \n",
      "pCubeShape1.extraSampleRate \n",
      "pCubeShape1.textureThreshold \n",
      "pCubeShape1.normalThreshold \n",
      "pCubeShape1.displayHWEnvironment \n",
      "pCubeShape1.collisionOffsetVelocityIncrement : Array : Compound \n",
      "pCubeShape1.collisionOffsetVelocityIncrement[-1].collisionOffsetVelocityIncrement_Position \n",
      "pCubeShape1.collisionOffsetVelocityIncrement[-1].collisionOffsetVelocityIncrement_FloatValue \n",
      "pCubeShape1.collisionOffsetVelocityIncrement[-1].collisionOffsetVelocityIncrement_Interp \n",
      "pCubeShape1.collisionDepthVelocityIncrement : Array : Compound \n",
      "pCubeShape1.collisionDepthVelocityIncrement[-1].collisionDepthVelocityIncrement_Position \n",
      "pCubeShape1.collisionDepthVelocityIncrement[-1].collisionDepthVelocityIncrement_FloatValue \n",
      "pCubeShape1.collisionDepthVelocityIncrement[-1].collisionDepthVelocityIncrement_Interp \n",
      "pCubeShape1.collisionOffsetVelocityMultiplier : Array : Compound \n",
      "pCubeShape1.collisionOffsetVelocityMultiplier[-1].collisionOffsetVelocityMultiplier_Position \n",
      "pCubeShape1.collisionOffsetVelocityMultiplier[-1].collisionOffsetVelocityMultiplier_FloatValue \n",
      "pCubeShape1.collisionOffsetVelocityMultiplier[-1].collisionOffsetVelocityMultiplier_Interp \n",
      "pCubeShape1.collisionDepthVelocityMultiplier : Array : Compound \n",
      "pCubeShape1.collisionDepthVelocityMultiplier[-1].collisionDepthVelocityMultiplier_Position \n",
      "pCubeShape1.collisionDepthVelocityMultiplier[-1].collisionDepthVelocityMultiplier_FloatValue \n",
      "pCubeShape1.collisionDepthVelocityMultiplier[-1].collisionDepthVelocityMultiplier_Interp \n",
      "pCubeShape1.inMesh <-- polyCube1.output\n",
      "pCubeShape1.outMesh \n",
      "pCubeShape1.outGeometryClean \n",
      "pCubeShape1.cachedInMesh \n",
      "pCubeShape1.worldMesh : Array \n",
      "pCubeShape1.outSmoothMesh \n",
      "pCubeShape1.cachedSmoothMesh \n",
      "pCubeShape1.smoothWarn \n",
      "pCubeShape1.smoothLevel \n",
      "pCubeShape1.smoothDrawType \n",
      "pCubeShape1.useGlobalSmoothDrawType \n",
      "pCubeShape1.outSmoothMeshSubdError \n",
      "pCubeShape1.showDisplacements \n",
      "pCubeShape1.displacementType \n",
      "pCubeShape1.loadTiledTextures \n",
      "pCubeShape1.enableOpenCL \n",
      "pCubeShape1.smoothTessLevel \n",
      "pCubeShape1.smoothOsdColorizePatches \n",
      "pCubeShape1.useOsdBoundaryMethods \n",
      "pCubeShape1.osdVertBoundary \n",
      "pCubeShape1.osdFvarBoundary \n",
      "pCubeShape1.osdFvarPropagateCorners \n",
      "pCubeShape1.osdSmoothTriangles \n",
      "pCubeShape1.osdCreaseMethod \n",
      "pCubeShape1.osdIndependentUVChannels \n",
      "pCubeShape1.continuity \n",
      "pCubeShape1.smoothUVs \n",
      "pCubeShape1.keepBorder \n",
      "pCubeShape1.boundaryRule \n",
      "pCubeShape1.keepHardEdge \n",
      "pCubeShape1.propagateEdgeHardness \n",
      "pCubeShape1.keepMapBorders \n",
      "pCubeShape1.smoothOffset : Compound \n",
      "pCubeShape1.sofx \n",
      "pCubeShape1.sofy \n",
      "pCubeShape1.sofz \n",
      "pCubeShape1.displaySubdComps \n",
      "pCubeShape1.useSmoothPreviewForRender \n",
      "pCubeShape1.renderSmoothLevel \n",
      "pCubeShape1.useMaxEdgeLength \n",
      "pCubeShape1.useMinEdgeLength \n",
      "pCubeShape1.useMaxSubdivisions \n",
      "pCubeShape1.useMaxUV \n",
      "pCubeShape1.useMinScreen \n",
      "pCubeShape1.useNumTriangles \n",
      "pCubeShape1.numTriangles \n",
      "pCubeShape1.maxEdgeLength \n",
      "pCubeShape1.minEdgeLength \n",
      "pCubeShape1.maxSubd \n",
      "pCubeShape1.maxUv \n",
      "pCubeShape1.minScreen \n",
      "pCubeShape1.maxTriangles \n",
      "pCubeShape1.pnts : Array : Compound \n",
      "pCubeShape1.pnts[-1].pntx \n",
      "pCubeShape1.pnts[-1].pnty \n",
      "pCubeShape1.pnts[-1].pntz \n",
      "pCubeShape1.vrts : Array : Compound \n",
      "pCubeShape1.vrts[-1].vrtx \n",
      "pCubeShape1.vrts[-1].vrty \n",
      "pCubeShape1.vrts[-1].vrtz \n",
      "pCubeShape1.edge : Array : Compound \n",
      "pCubeShape1.edge[-1].edg1 \n",
      "pCubeShape1.edge[-1].edg2 \n",
      "pCubeShape1.edge[-1].edgh \n",
      "pCubeShape1.uvpt : Array : Compound \n",
      "pCubeShape1.uvpt[-1].uvpx \n",
      "pCubeShape1.uvpt[-1].uvpy \n",
      "pCubeShape1.colors : Array : Compound \n",
      "pCubeShape1.colors[-1].colorR \n",
      "pCubeShape1.colors[-1].colorG \n",
      "pCubeShape1.colors[-1].colorB \n",
      "pCubeShape1.colors[-1].colorA \n",
      "pCubeShape1.normals : Array : Compound \n",
      "pCubeShape1.normals[-1].normalx \n",
      "pCubeShape1.normals[-1].normaly \n",
      "pCubeShape1.normals[-1].normalz \n",
      "pCubeShape1.face : Array \n",
      "pCubeShape1.faceColorIndices : Array \n",
      "pCubeShape1.creaseData \n",
      "pCubeShape1.creaseVertexData \n",
      "pCubeShape1.pinData : Array \n",
      "pCubeShape1.holeFaceData \n",
      "pCubeShape1.colorPerVertex : Compound \n",
      "pCubeShape1.vertexColor : Array : Compound \n",
      "pCubeShape1.vertexColor[-1].vertexColorRGB : Compound \n",
      "pCubeShape1.vertexColor[-1].vertexColorR \n",
      "pCubeShape1.vertexColor[-1].vertexColorG \n",
      "pCubeShape1.vertexColor[-1].vertexColorB \n",
      "pCubeShape1.vertexColor[-1].vertexAlpha \n",
      "pCubeShape1.vertexColor[-1].vertexFaceColor : Array : Compound \n",
      "pCubeShape1.vertexColor[-1].vertexFaceColor[-1].vertexFaceColorRGB : Compound \n",
      "pCubeShape1.vertexColor[-1].vertexFaceColor[-1].vertexFaceColorR \n",
      "pCubeShape1.vertexColor[-1].vertexFaceColor[-1].vertexFaceColorG \n",
      "pCubeShape1.vertexColor[-1].vertexFaceColor[-1].vertexFaceColorB \n",
      "pCubeShape1.vertexColor[-1].vertexFaceColor[-1].vertexFaceAlpha \n",
      "pCubeShape1.normalPerVertex : Compound \n",
      "pCubeShape1.vertexNormal : Array : Compound \n",
      "pCubeShape1.vertexNormal[-1].vertexNormalXYZ : Compound \n",
      "pCubeShape1.vertexNormal[-1].vertexNormalX \n",
      "pCubeShape1.vertexNormal[-1].vertexNormalY \n",
      "pCubeShape1.vertexNormal[-1].vertexNormalZ \n",
      "pCubeShape1.vertexNormal[-1].vertexFaceNormal : Array : Compound \n",
      "pCubeShape1.vertexNormal[-1].vertexFaceNormal[-1].vertexFaceNormalXYZ : Compound \n",
      "pCubeShape1.vertexNormal[-1].vertexFaceNormal[-1].vertexFaceNormalX \n",
      "pCubeShape1.vertexNormal[-1].vertexFaceNormal[-1].vertexFaceNormalY \n",
      "pCubeShape1.vertexNormal[-1].vertexFaceNormal[-1].vertexFaceNormalZ \n",
      "pCubeShape1.displayVertices \n",
      "pCubeShape1.displayBorders \n",
      "pCubeShape1.displayMapBorders \n",
      "pCubeShape1.displayEdges \n",
      "pCubeShape1.displayFacesWithGroupId \n",
      "pCubeShape1.displayCenter \n",
      "pCubeShape1.displayTriangles \n",
      "pCubeShape1.displayUVs \n",
      "pCubeShape1.displayItemNumbers \n",
      "pCubeShape1.displayNonPlanar \n",
      "pCubeShape1.backfaceCulling \n",
      "pCubeShape1.vertexBackfaceCulling \n",
      "pCubeShape1.vertexSize \n",
      "pCubeShape1.uvSize \n",
      "pCubeShape1.borderWidth \n",
      "pCubeShape1.normalSize \n",
      "pCubeShape1.normalType \n",
      "pCubeShape1.displayNormal \n",
      "pCubeShape1.displayTangent \n",
      "pCubeShape1.tangentSpace \n",
      "pCubeShape1.tangentSmoothingAngle \n",
      "pCubeShape1.tangentNormalThreshold \n",
      "pCubeShape1.allowTopologyMod \n",
      "pCubeShape1.materialBlend \n",
      "pCubeShape1.uvTweakLocation \n",
      "pCubeShape1.userTrg \n",
      "pCubeShape1.dispResolution \n",
      "pCubeShape1.vertexIdMap \n",
      "pCubeShape1.edgeIdMap \n",
      "pCubeShape1.faceIdMap \n",
      "pCubeShape1.displaySmoothMesh \n",
      "pCubeShape1.smoothMeshSelectionMode \n",
      "pCubeShape1.inForceNodeUVUpdate \n",
      "pCubeShape1.outForceNodeUVUpdate \n",
      "pCubeShape1.alwaysDrawOnTop \n",
      "pCubeShape1.reuseTriangles \n",
      "pCubeShape1.quadSplit \n",
      "pCubeShape1.vertexNormalMethod \n",
      "pCubeShape1.perInstanceIndex : Array \n",
      "pCubeShape1.perInstanceTag : Array \n",
      "pCubeShape1.displayAlphaAsGreyScale \n",
      "pCubeShape1.displayColorAsGreyScale \n",
      "pCubeShape1.displayRedColorChannel \n",
      "pCubeShape1.displayGreenColorChannel \n",
      "pCubeShape1.displayBlueColorChannel \n",
      "pCubeShape1.displayInvisibleFaces \n",
      "pCubeShape1.useMeshSculptCache \n",
      "pCubeShape1.computeFromSculptCache \n",
      "pCubeShape1.useMeshTexSculptCache \n",
      "pCubeShape1.freeze : Array \n",
      "pCubeShape1.motionVectorColorSet \n",
      "pCubeShape1.vertexColorSource \n",
      "pCubeShape1.mikktspaceTangentGen \n"
     ]
    }
   ],
   "source": [
    "def printPlugConnect(plug: om.MPlug):\n",
    "    if plug.isConnected:\n",
    "        if plug.isSource:\n",
    "            print(\"-->\", plug.destinations()[0], end=\"\")\n",
    "        elif plug.isDestination:\n",
    "            print(\"<--\", plug.source(), end=\"\")\n",
    "\n",
    "\n",
    "def printPlugs(fnDepNode: om.MFnDependencyNode):\n",
    "    for i in range(fnDepNode.attributeCount()):\n",
    "        attr: om.MFnAttribute = fnDepNode.attribute(i)\n",
    "        plug: om.MPlug = fnDepNode.findPlug(attr, False)\n",
    "        print(plug.info, end=' ')\n",
    "        if plug.isArray:\n",
    "            print(': Array ', end='')\n",
    "            if plug.numConnectedElements() > 0:\n",
    "                for j in range(plug.numElements()):\n",
    "                    element: om.MPlug = plug.elementByLogicalIndex(j)\n",
    "                    if element.isConnected:\n",
    "                        print()\n",
    "                        print(element.info, end=' ')\n",
    "                        printPlugConnect(element)\n",
    "        if plug.isCompound:\n",
    "            print(': Compound ', end='')\n",
    "        else:\n",
    "            printPlugConnect(plug)\n",
    "        print()\n",
    "\n",
    "\n",
    "printPlugs(fnDepNode)"
   ],
   "metadata": {
    "collapsed": false,
    "ExecuteTime": {
     "end_time": "2024-11-08T14:48:55.704490100Z",
     "start_time": "2024-11-08T14:48:54.916687800Z"
    }
   },
   "id": "a4a72d1b59a60dea",
   "execution_count": 347
  },
  {
   "cell_type": "code",
   "outputs": [
    {
     "name": "stderr",
     "output_type": "stream",
     "text": [
      "<OpenMaya.MObject object at 0x0000021DD7754890>\n"
     ]
    }
   ],
   "source": [
    "heightPlug.node()"
   ],
   "metadata": {
    "collapsed": false,
    "ExecuteTime": {
     "end_time": "2024-11-08T14:52:40.255359700Z",
     "start_time": "2024-11-08T14:52:40.227306500Z"
    }
   },
   "id": "4acabac2c450f6b7",
   "execution_count": 348
  },
  {
   "cell_type": "code",
   "outputs": [
    {
     "name": "stdout",
     "output_type": "stream",
     "text": [
      "pCubeShape1\n"
     ]
    }
   ],
   "source": [
    "itDag = om.MItDag()\n",
    "# find mesh\n",
    "itDag.reset(fnDepNode.object(), om.MItDag.kDepthFirst, om.MFn.kMesh)\n",
    "while not itDag.isDone():\n",
    "    mesh = om.MFnMesh(itDag.currentItem())\n",
    "    print(mesh.name())\n",
    "    itDag.next()"
   ],
   "metadata": {
    "collapsed": false,
    "ExecuteTime": {
     "end_time": "2024-11-08T14:58:43.873557500Z",
     "start_time": "2024-11-08T14:58:43.857866600Z"
    }
   },
   "id": "4dbdff31ace100f5",
   "execution_count": 349
  },
  {
   "cell_type": "code",
   "outputs": [
    {
     "name": "stdout",
     "output_type": "stream",
     "text": [
      "description3_splineBase\n"
     ]
    }
   ],
   "source": [
    "itDg = om.MItDependencyGraph(fnDepNode.object(), direction=om.MItDependencyGraph.kUpstream) # 选择遍历方向是按Plug连接的上游还是下游\n",
    "# itDg.resetTo(fnDepNode.object())\n",
    "while not itDg.isDone():\n",
    "    dn = om.MFnDependencyNode(itDg.currentNode())\n",
    "    if dn.typeName == 'xgmSplineBase':\n",
    "        print(dn.name())\n",
    "        break\n",
    "    itDg.next()"
   ],
   "metadata": {
    "collapsed": false,
    "ExecuteTime": {
     "end_time": "2024-11-08T15:03:37.944402600Z",
     "start_time": "2024-11-08T15:03:37.879600100Z"
    }
   },
   "id": "5c179695d2c86052",
   "execution_count": 360
  },
  {
   "cell_type": "code",
   "outputs": [],
   "source": [],
   "metadata": {
    "collapsed": false
   },
   "id": "183bd620abeabb3c"
  }
 ],
 "metadata": {
  "kernelspec": {
   "name": "mayakernel",
   "language": "python",
   "display_name": "maya"
  },
  "language_info": {
   "codemirror_mode": {
    "name": "ipython",
    "version": 2
   },
   "file_extension": ".py",
   "mimetype": "text/x-python",
   "name": "python",
   "nbconvert_exporter": "python",
   "pygments_lexer": "ipython2",
   "version": "2.7.6"
  }
 },
 "nbformat": 4,
 "nbformat_minor": 5
}
